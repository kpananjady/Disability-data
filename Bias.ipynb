{
 "cells": [
  {
   "cell_type": "markdown",
   "metadata": {},
   "source": [
    "# Process log - Bias in DDS data?"
   ]
  },
  {
   "cell_type": "markdown",
   "metadata": {},
   "source": [
    "Question: Is there evidence of discrimination in this dataset of state support to individuals with disabilities in the state of California?"
   ]
  },
  {
   "cell_type": "markdown",
   "metadata": {},
   "source": [
    "See the conclusions at this link: https://docs.google.com/document/d/1IhVsOLIuNH9-aYdYCvDGEtvbTx1wiBfmvM6okJ_ik9Y/edit?usp=sharing"
   ]
  },
  {
   "cell_type": "markdown",
   "metadata": {},
   "source": [
    "Process log outline:\n",
    "\n",
    "- Exploratory work in each category is followed by an analysis heading\n",
    "    - Age Cohort\n",
    "        - Finding: Cohorts go from 0-5, 6-12,13-17,18-21,22-50,51+\n",
    "            - Analysis 1: Age Cohort and Expenditure\n",
    "                - Conclusion: As age cohort increases, so does expenditure\n",
    "    - Age \n",
    "        - Finding: Nothing of note\n",
    "            - Analysis 2: Age and Expenditure\n",
    "                - Conclusion: Age and expenditure are correlated\n",
    "    - Ethnicity\n",
    "         - Finding: Whites and Hispanics comprise most of the dataset\n",
    "    - Expenditure\n",
    "         - Finding: mean is 18065, median 7026.0; we're dealing with skewed distributions, going to stick with median measures\n",
    "            - Analysis 3: Ethnicity and Expenditure\n",
    "                - Conclusion: Median expenditures among whites and Hispanics shows a disparity\n",
    "            - Analysis 4: Ethnicity, Age and Expenditure\n",
    "                - Conclusion: When you disaggregate the above trend by age cohort it disappears/reverses\n"
   ]
  },
  {
   "cell_type": "code",
   "execution_count": null,
   "metadata": {},
   "outputs": [],
   "source": [
    "#import relevant libraries: pandas for analysis and pyplot for visualization"
   ]
  },
  {
   "cell_type": "code",
   "execution_count": 1,
   "metadata": {},
   "outputs": [],
   "source": [
    "import pandas as pd\n",
    "from matplotlib import pyplot"
   ]
  },
  {
   "cell_type": "code",
   "execution_count": 3,
   "metadata": {},
   "outputs": [
    {
     "name": "stdout",
     "output_type": "stream",
     "text": [
      "Bias.ipynb       dds_data (1).csv\r\n"
     ]
    }
   ],
   "source": [
    "!ls"
   ]
  },
  {
   "cell_type": "markdown",
   "metadata": {},
   "source": [
    "# Open and explore"
   ]
  },
  {
   "cell_type": "code",
   "execution_count": null,
   "metadata": {},
   "outputs": [],
   "source": [
    "#read in the data"
   ]
  },
  {
   "cell_type": "code",
   "execution_count": 4,
   "metadata": {},
   "outputs": [],
   "source": [
    "df = pd.read_csv('dds_data (1).csv')"
   ]
  },
  {
   "cell_type": "code",
   "execution_count": null,
   "metadata": {},
   "outputs": [],
   "source": [
    "#determine the fields and their datatypes"
   ]
  },
  {
   "cell_type": "code",
   "execution_count": 5,
   "metadata": {},
   "outputs": [
    {
     "data": {
      "text/plain": [
       "ID               int64\n",
       "Age_Cohort      object\n",
       "Age              int64\n",
       "Gender          object\n",
       "Expenditures     int64\n",
       "Ethnicity       object\n",
       "dtype: object"
      ]
     },
     "execution_count": 5,
     "metadata": {},
     "output_type": "execute_result"
    }
   ],
   "source": [
    "df.dtypes"
   ]
  },
  {
   "cell_type": "code",
   "execution_count": null,
   "metadata": {},
   "outputs": [],
   "source": [
    "#determine how many entries we're workign with"
   ]
  },
  {
   "cell_type": "code",
   "execution_count": 6,
   "metadata": {},
   "outputs": [
    {
     "data": {
      "text/plain": [
       "<bound method NDFrame.describe of        ID  Age_Cohort  Age  Gender  Expenditures           Ethnicity\n",
       "0    10210      13-17   17  Female          2113  White not Hispanic\n",
       "1    10409      22-50   37    Male         41924  White not Hispanic\n",
       "2    10486      0 - 5    3    Male          1454            Hispanic\n",
       "3    10538      18-21   19  Female          6400            Hispanic\n",
       "4    10568      13-17   13    Male          4412  White not Hispanic\n",
       "..     ...        ...  ...     ...           ...                 ...\n",
       "995  99622       51 +   86  Female         57055  White not Hispanic\n",
       "996  99715      18-21   20    Male          7494            Hispanic\n",
       "997  99718      13-17   17  Female          3673          Multi Race\n",
       "998  99791       6-12   10    Male          3638            Hispanic\n",
       "999  99898      22-50   23    Male         26702  White not Hispanic\n",
       "\n",
       "[1000 rows x 6 columns]>"
      ]
     },
     "execution_count": 6,
     "metadata": {},
     "output_type": "execute_result"
    }
   ],
   "source": [
    "df.describe"
   ]
  },
  {
   "cell_type": "markdown",
   "metadata": {},
   "source": [
    "# Age Cohort"
   ]
  },
  {
   "cell_type": "code",
   "execution_count": null,
   "metadata": {},
   "outputs": [],
   "source": [
    "#look at the distribution of ages "
   ]
  },
  {
   "cell_type": "code",
   "execution_count": 7,
   "metadata": {},
   "outputs": [
    {
     "data": {
      "text/plain": [
       "<matplotlib.axes._subplots.AxesSubplot at 0x1185c0790>"
      ]
     },
     "execution_count": 7,
     "metadata": {},
     "output_type": "execute_result"
    },
    {
     "data": {
      "image/png": "[encoded data removed]",
      "text/plain": [
       "<Figure size 432x288 with 1 Axes>"
      ]
     },
     "metadata": {
      "needs_background": "light"
     },
     "output_type": "display_data"
    }
   ],
   "source": [
    "df.Age_Cohort.value_counts().plot(kind='bar')"
   ]
  },
  {
   "cell_type": "code",
   "execution_count": null,
   "metadata": {},
   "outputs": [],
   "source": [
    "#mean"
   ]
  },
  {
   "cell_type": "code",
   "execution_count": 73,
   "metadata": {},
   "outputs": [
    {
     "data": {
      "text/plain": [
       "Age_Cohort\n",
       " 0 - 5     1415.280488\n",
       " 51 +     53521.896226\n",
       "13-17      3922.613208\n",
       "18-21      9888.537688\n",
       "22-50     40209.283186\n",
       "6-12       2226.862857\n",
       "Name: Expenditures, dtype: float64"
      ]
     },
     "execution_count": 73,
     "metadata": {},
     "output_type": "execute_result"
    }
   ],
   "source": [
    "df.groupby(by='Age_Cohort').Expenditures.mean()"
   ]
  },
  {
   "cell_type": "code",
   "execution_count": null,
   "metadata": {},
   "outputs": [],
   "source": [
    "#median"
   ]
  },
  {
   "cell_type": "code",
   "execution_count": 93,
   "metadata": {},
   "outputs": [
    {
     "data": {
      "text/plain": [
       "Age_Cohort\n",
       " 0 - 5     1380.5\n",
       " 51 +     53509.0\n",
       "13-17      3952.0\n",
       "18-21      9979.0\n",
       "22-50     40455.5\n",
       "6-12       2191.0\n",
       "Name: Expenditures, dtype: float64"
      ]
     },
     "execution_count": 93,
     "metadata": {},
     "output_type": "execute_result"
    }
   ],
   "source": [
    "df.groupby(by='Age_Cohort').Expenditures.median()"
   ]
  },
  {
   "cell_type": "code",
   "execution_count": null,
   "metadata": {},
   "outputs": [],
   "source": [
    "#median values are not that far off the mean ones, so I'm just going to use the mean ones to make this next point"
   ]
  },
  {
   "cell_type": "markdown",
   "metadata": {},
   "source": [
    "# - Analysis 1: How does Age Cohort affect expenditure?"
   ]
  },
  {
   "cell_type": "code",
   "execution_count": null,
   "metadata": {},
   "outputs": [],
   "source": [
    "#rearrange above data by age cohort in Visual Studio Code, save as dataframe"
   ]
  },
  {
   "cell_type": "code",
   "execution_count": 76,
   "metadata": {},
   "outputs": [],
   "source": [
    "df2 = pd.read_csv('df2.csv')"
   ]
  },
  {
   "cell_type": "code",
   "execution_count": null,
   "metadata": {},
   "outputs": [],
   "source": [
    "#plot"
   ]
  },
  {
   "cell_type": "code",
   "execution_count": 80,
   "metadata": {},
   "outputs": [
    {
     "data": {
      "text/plain": [
       "<matplotlib.axes._subplots.AxesSubplot at 0x11cc7d290>"
      ]
     },
     "execution_count": 80,
     "metadata": {},
     "output_type": "execute_result"
    },
    {
     "data": {
      "image/png": "[encoded data removed]",
      "text/plain": [
       "<Figure size 432x288 with 1 Axes>"
      ]
     },
     "metadata": {
      "needs_background": "light"
     },
     "output_type": "display_data"
    }
   ],
   "source": [
    "df2.plot(x='Age_Cohort',y='avg_expenditure')"
   ]
  },
  {
   "cell_type": "code",
   "execution_count": null,
   "metadata": {},
   "outputs": [],
   "source": [
    "#Increase in age chort, increase in avg expenditure "
   ]
  },
  {
   "cell_type": "markdown",
   "metadata": {},
   "source": [
    "# Age"
   ]
  },
  {
   "cell_type": "code",
   "execution_count": null,
   "metadata": {},
   "outputs": [],
   "source": [
    "#quick look at values"
   ]
  },
  {
   "cell_type": "code",
   "execution_count": 138,
   "metadata": {
    "scrolled": true
   },
   "outputs": [
    {
     "data": {
      "text/plain": [
       "20    54\n",
       "16    50\n",
       "18    50\n",
       "19    48\n",
       "21    47\n",
       "      ..\n",
       "67     1\n",
       "55     1\n",
       "48     1\n",
       "46     1\n",
       "77     1\n",
       "Name: Age, Length: 86, dtype: int64"
      ]
     },
     "execution_count": 138,
     "metadata": {},
     "output_type": "execute_result"
    }
   ],
   "source": [
    "df.Age.value_counts()"
   ]
  },
  {
   "cell_type": "markdown",
   "metadata": {},
   "source": [
    "# - Analysis 2: How does Age affect Expenditure?"
   ]
  },
  {
   "cell_type": "code",
   "execution_count": 143,
   "metadata": {},
   "outputs": [],
   "source": [
    "#scatterplot of age v expenditure — why does it jump like that? investigate"
   ]
  },
  {
   "cell_type": "code",
   "execution_count": 134,
   "metadata": {},
   "outputs": [
    {
     "data": {
      "text/plain": [
       "<matplotlib.axes._subplots.AxesSubplot at 0x11c0f0f10>"
      ]
     },
     "execution_count": 134,
     "metadata": {},
     "output_type": "execute_result"
    },
    {
     "data": {
      "image/png": "[encoded data removed]",
      "text/plain": [
       "<Figure size 432x288 with 1 Axes>"
      ]
     },
     "metadata": {
      "needs_background": "light"
     },
     "output_type": "display_data"
    }
   ],
   "source": [
    "df.groupby(by='Age')['Expenditures'].median().reset_index().plot(kind='scatter', x='Age', y='Expenditures')"
   ]
  },
  {
   "cell_type": "code",
   "execution_count": null,
   "metadata": {},
   "outputs": [],
   "source": [
    "#age and expenditure are correlated"
   ]
  },
  {
   "cell_type": "code",
   "execution_count": 135,
   "metadata": {},
   "outputs": [
    {
     "data": {
      "text/plain": [
       "0.8432421766697423"
      ]
     },
     "execution_count": 135,
     "metadata": {},
     "output_type": "execute_result"
    }
   ],
   "source": [
    "df['Age'].corr(df['Expenditures'], method='pearson')"
   ]
  },
  {
   "cell_type": "markdown",
   "metadata": {},
   "source": [
    "# Race / Ethnicity"
   ]
  },
  {
   "cell_type": "code",
   "execution_count": null,
   "metadata": {},
   "outputs": [],
   "source": [
    "#looking at percentage composition"
   ]
  },
  {
   "cell_type": "code",
   "execution_count": 130,
   "metadata": {},
   "outputs": [
    {
     "data": {
      "text/plain": [
       "White not Hispanic    0.401\n",
       "Hispanic              0.376\n",
       "Asian                 0.129\n",
       "Black                 0.059\n",
       "Multi Race            0.026\n",
       "American Indian       0.004\n",
       "Native Hawaiian       0.003\n",
       "Other                 0.002\n",
       "Name: Ethnicity, dtype: float64"
      ]
     },
     "execution_count": 130,
     "metadata": {},
     "output_type": "execute_result"
    }
   ],
   "source": [
    "df.Ethnicity.value_counts(normalize=True)"
   ]
  },
  {
   "cell_type": "code",
   "execution_count": 136,
   "metadata": {},
   "outputs": [],
   "source": [
    "#visualizing number of entries by race"
   ]
  },
  {
   "cell_type": "code",
   "execution_count": 10,
   "metadata": {},
   "outputs": [
    {
     "data": {
      "text/plain": [
       "<matplotlib.axes._subplots.AxesSubplot at 0x118a7a390>"
      ]
     },
     "execution_count": 10,
     "metadata": {},
     "output_type": "execute_result"
    },
    {
     "data": {
      "image/png": "[encoded data removed]",
      "text/plain": [
       "<Figure size 432x288 with 1 Axes>"
      ]
     },
     "metadata": {
      "needs_background": "light"
     },
     "output_type": "display_data"
    }
   ],
   "source": [
    "df.Ethnicity.value_counts().plot(kind='bar')"
   ]
  },
  {
   "cell_type": "markdown",
   "metadata": {},
   "source": [
    "# Exploring expenditures"
   ]
  },
  {
   "cell_type": "code",
   "execution_count": 144,
   "metadata": {},
   "outputs": [],
   "source": [
    "#some basic central tendency measure, looking at skew"
   ]
  },
  {
   "cell_type": "code",
   "execution_count": 11,
   "metadata": {},
   "outputs": [
    {
     "data": {
      "text/plain": [
       "<matplotlib.lines.Line2D at 0x1183919d0>"
      ]
     },
     "execution_count": 11,
     "metadata": {},
     "output_type": "execute_result"
    },
    {
     "data": {
      "image/png": "[encoded data removed]",
      "text/plain": [
       "<Figure size 432x288 with 1 Axes>"
      ]
     },
     "metadata": {
      "needs_background": "light"
     },
     "output_type": "display_data"
    }
   ],
   "source": [
    "plt = df.Expenditures.plot(kind='hist')\n",
    "plt.axvline(df.Expenditures.mean(), color='k', linestyle='dashed', linewidth=1)\n",
    "plt.axvline(df.Expenditures.median(), color='red', linestyle='dashed', linewidth=1)\n",
    "\n"
   ]
  },
  {
   "cell_type": "code",
   "execution_count": null,
   "metadata": {},
   "outputs": [],
   "source": [
    "#mean"
   ]
  },
  {
   "cell_type": "code",
   "execution_count": 12,
   "metadata": {},
   "outputs": [
    {
     "data": {
      "text/plain": [
       "18065.786"
      ]
     },
     "execution_count": 12,
     "metadata": {},
     "output_type": "execute_result"
    }
   ],
   "source": [
    "df.Expenditures.mean()"
   ]
  },
  {
   "cell_type": "code",
   "execution_count": null,
   "metadata": {},
   "outputs": [],
   "source": [
    "#median"
   ]
  },
  {
   "cell_type": "code",
   "execution_count": 13,
   "metadata": {},
   "outputs": [
    {
     "data": {
      "text/plain": [
       "7026.0"
      ]
     },
     "execution_count": 13,
     "metadata": {},
     "output_type": "execute_result"
    }
   ],
   "source": [
    "df.Expenditures.median()"
   ]
  },
  {
   "cell_type": "markdown",
   "metadata": {},
   "source": [
    "# - Analysis 3: How does Ethnicity affect Expenditure? "
   ]
  },
  {
   "cell_type": "markdown",
   "metadata": {},
   "source": [
    "White"
   ]
  },
  {
   "cell_type": "code",
   "execution_count": 15,
   "metadata": {},
   "outputs": [
    {
     "data": {
      "text/plain": [
       "<matplotlib.lines.Line2D at 0x11aedcb90>"
      ]
     },
     "execution_count": 15,
     "metadata": {},
     "output_type": "execute_result"
    },
    {
     "data": {
      "image/png": "[encoded data removed]",
      "text/plain": [
       "<Figure size 432x288 with 1 Axes>"
      ]
     },
     "metadata": {
      "needs_background": "light"
     },
     "output_type": "display_data"
    }
   ],
   "source": [
    "plt = df[df['Ethnicity']=='White not Hispanic'].Expenditures.plot(kind='hist')\n",
    "plt.axvline(df[df['Ethnicity']=='White not Hispanic'].Expenditures.mean(), color='k', linestyle='dashed', linewidth=1)\n",
    "plt.axvline(df[df['Ethnicity']=='White not Hispanic'].Expenditures.median(), color='red', linestyle='dashed', linewidth=1)\n",
    "\n",
    "\n"
   ]
  },
  {
   "cell_type": "markdown",
   "metadata": {},
   "source": [
    "Black"
   ]
  },
  {
   "cell_type": "code",
   "execution_count": 17,
   "metadata": {},
   "outputs": [
    {
     "data": {
      "text/plain": [
       "<matplotlib.lines.Line2D at 0x11af18390>"
      ]
     },
     "execution_count": 17,
     "metadata": {},
     "output_type": "execute_result"
    },
    {
     "data": {
      "image/png": "[encoded data removed]",
      "text/plain": [
       "<Figure size 432x288 with 1 Axes>"
      ]
     },
     "metadata": {
      "needs_background": "light"
     },
     "output_type": "display_data"
    }
   ],
   "source": [
    "plt = df[df['Ethnicity']=='Black'].Expenditures.plot(kind='hist')\n",
    "plt.axvline(df[df['Ethnicity']=='Black'].Expenditures.mean(), color='k', linestyle='dashed', linewidth=1)\n",
    "plt.axvline(df[df['Ethnicity']=='Black'].Expenditures.median(), color='red', linestyle='dashed', linewidth=1)\n",
    "\n",
    "\n",
    "\n"
   ]
  },
  {
   "cell_type": "markdown",
   "metadata": {},
   "source": [
    "Hispanic"
   ]
  },
  {
   "cell_type": "code",
   "execution_count": 19,
   "metadata": {},
   "outputs": [
    {
     "data": {
      "text/plain": [
       "<matplotlib.lines.Line2D at 0x11b03f490>"
      ]
     },
     "execution_count": 19,
     "metadata": {},
     "output_type": "execute_result"
    },
    {
     "data": {
      "image/png": "[encoded data removed]",
      "text/plain": [
       "<Figure size 432x288 with 1 Axes>"
      ]
     },
     "metadata": {
      "needs_background": "light"
     },
     "output_type": "display_data"
    }
   ],
   "source": [
    "plt = df[df['Ethnicity']=='Hispanic'].Expenditures.plot(kind='hist')\n",
    "plt.axvline(df[df['Ethnicity']=='Hispanic'].Expenditures.mean(), color='k', linestyle='dashed', linewidth=1)\n",
    "plt.axvline(df[df['Ethnicity']=='Hispanic'].Expenditures.median(), color='red', linestyle='dashed', linewidth=1)\n",
    "\n",
    "\n",
    "\n",
    "\n"
   ]
  },
  {
   "cell_type": "markdown",
   "metadata": {},
   "source": [
    "Asian"
   ]
  },
  {
   "cell_type": "code",
   "execution_count": 20,
   "metadata": {},
   "outputs": [
    {
     "data": {
      "text/plain": [
       "<matplotlib.lines.Line2D at 0x11b144950>"
      ]
     },
     "execution_count": 20,
     "metadata": {},
     "output_type": "execute_result"
    },
    {
     "data": {
      "image/png": "[encoded data removed]",
      "text/plain": [
       "<Figure size 432x288 with 1 Axes>"
      ]
     },
     "metadata": {
      "needs_background": "light"
     },
     "output_type": "display_data"
    }
   ],
   "source": [
    "plt = df[df['Ethnicity']=='Asian'].Expenditures.plot(kind='hist')\n",
    "plt.axvline(df[df['Ethnicity']=='Asian'].Expenditures.mean(), color='k', linestyle='dashed', linewidth=1)\n",
    "plt.axvline(df[df['Ethnicity']=='Asian'].Expenditures.median(), color='red', linestyle='dashed', linewidth=1)\n",
    "\n",
    "\n",
    "\n",
    "\n",
    "\n"
   ]
  },
  {
   "cell_type": "code",
   "execution_count": 21,
   "metadata": {},
   "outputs": [],
   "source": [
    "#seems that white and hispanic are comparable, so let's compare them"
   ]
  },
  {
   "cell_type": "code",
   "execution_count": 22,
   "metadata": {},
   "outputs": [
    {
     "data": {
      "image/png": "[encoded data removed]",
      "text/plain": [
       "<Figure size 432x288 with 1 Axes>"
      ]
     },
     "metadata": {
      "needs_background": "light"
     },
     "output_type": "display_data"
    }
   ],
   "source": [
    "pyplot.hist(df[df['Ethnicity']=='White not Hispanic'].Expenditures,alpha=0.5, label='White')\n",
    "pyplot.axvline(df[df['Ethnicity']=='White not Hispanic'].Expenditures.mean(), color='blue', linestyle='dashed', linewidth=1)\n",
    "pyplot.axvline(df[df['Ethnicity']=='White not Hispanic'].Expenditures.median(), color='blue', linestyle='dashed', linewidth=2)\n",
    "\n",
    "\n",
    "\n",
    "pyplot.hist(df[df['Ethnicity']=='Hispanic'].Expenditures,alpha=0.5, label='Hispanic')\n",
    "pyplot.axvline(df[df['Ethnicity']=='Hispanic'].Expenditures.mean(), color='orange', linestyle='dashed', linewidth=1)\n",
    "pyplot.axvline(df[df['Ethnicity']=='Hispanic'].Expenditures.median(), color='orange', linestyle='dashed', linewidth=2)\n",
    "\n",
    "\n",
    "\n",
    "pyplot.legend(loc='upper right')\n",
    "pyplot.show()"
   ]
  },
  {
   "cell_type": "code",
   "execution_count": null,
   "metadata": {},
   "outputs": [],
   "source": [
    "#quantifying the median diff"
   ]
  },
  {
   "cell_type": "code",
   "execution_count": 133,
   "metadata": {},
   "outputs": [
    {
     "data": {
      "text/plain": [
       "11766.0"
      ]
     },
     "execution_count": 133,
     "metadata": {},
     "output_type": "execute_result"
    }
   ],
   "source": [
    "df[df['Ethnicity']=='White not Hispanic'].Expenditures.median() - df[df['Ethnicity']=='Hispanic'].Expenditures.median()"
   ]
  },
  {
   "cell_type": "code",
   "execution_count": 23,
   "metadata": {},
   "outputs": [],
   "source": [
    "#there's some evidence of discrimination here? "
   ]
  },
  {
   "cell_type": "markdown",
   "metadata": {},
   "source": [
    "# - Analysis 4: Ethnicity, Age Cohort and Expenditure? "
   ]
  },
  {
   "cell_type": "markdown",
   "metadata": {},
   "source": [
    "0-5, Hispanic median with the lead"
   ]
  },
  {
   "cell_type": "code",
   "execution_count": 61,
   "metadata": {},
   "outputs": [
    {
     "data": {
      "image/png": "[encoded data removed]",
      "text/plain": [
       "<Figure size 432x288 with 1 Axes>"
      ]
     },
     "metadata": {
      "needs_background": "light"
     },
     "output_type": "display_data"
    }
   ],
   "source": [
    "pyplot.hist(df[(df['Ethnicity']=='White not Hispanic')&(df['Age_Cohort']==' 0 - 5')].Expenditures,alpha=0.5, label='White not Hispanic 0-5')\n",
    "pyplot.axvline(df[(df['Ethnicity']=='White not Hispanic')&(df['Age_Cohort']==' 0 - 5')].Expenditures.mean(), color='blue', linestyle='dashed', linewidth=1)\n",
    "pyplot.axvline(df[(df['Ethnicity']=='White not Hispanic')&(df['Age_Cohort']==' 0 - 5')].Expenditures.median(), color='blue', linestyle='dashed', linewidth=2)\n",
    "\n",
    "\n",
    "\n",
    "pyplot.hist(df[(df['Ethnicity']=='Hispanic')&(df['Age_Cohort']==' 0 - 5')].Expenditures,alpha=0.5, label='Hispanic 0-5')\n",
    "pyplot.axvline(df[(df['Ethnicity']=='Hispanic')&(df['Age_Cohort']==' 0 - 5')].Expenditures.mean(), color='orange', linestyle='dashed', linewidth=1)\n",
    "pyplot.axvline(df[(df['Ethnicity']=='Hispanic')&(df['Age_Cohort']==' 0 - 5')].Expenditures.median(), color='orange', linestyle='dashed', linewidth=2)\n",
    "\n",
    "\n",
    "\n",
    "pyplot.legend(loc='upper right')\n",
    "pyplot.show()"
   ]
  },
  {
   "cell_type": "markdown",
   "metadata": {},
   "source": [
    "13-17, basically overlapping medians"
   ]
  },
  {
   "cell_type": "code",
   "execution_count": 59,
   "metadata": {},
   "outputs": [
    {
     "data": {
      "image/png": "[encoded data removed]",
      "text/plain": [
       "<Figure size 432x288 with 1 Axes>"
      ]
     },
     "metadata": {
      "needs_background": "light"
     },
     "output_type": "display_data"
    }
   ],
   "source": [
    "pyplot.hist(df[(df['Ethnicity']=='White not Hispanic')&(df['Age_Cohort']=='13-17')].Expenditures,alpha=0.5, label='White not Hispanic 13-17')\n",
    "pyplot.axvline(df[(df['Ethnicity']=='White not Hispanic')&(df['Age_Cohort']=='13-17')].Expenditures.mean(), color='blue', linestyle='dashed', linewidth=1)\n",
    "pyplot.axvline(df[(df['Ethnicity']=='White not Hispanic')&(df['Age_Cohort']=='13-17')].Expenditures.median(), color='blue', linestyle='dashed', linewidth=2)\n",
    "\n",
    "\n",
    "\n",
    "pyplot.hist(df[(df['Ethnicity']=='Hispanic')&(df['Age_Cohort']=='13-17')].Expenditures,alpha=0.5, label='Hispanic 13-17')\n",
    "pyplot.axvline(df[(df['Ethnicity']=='Hispanic')&(df['Age_Cohort']=='13-17')].Expenditures.mean(), color='orange', linestyle='dashed', linewidth=1)\n",
    "pyplot.axvline(df[(df['Ethnicity']=='Hispanic')&(df['Age_Cohort']=='13-17')].Expenditures.median(), color='orange', linestyle='dashed', linewidth=2)\n",
    "\n",
    "\n",
    "\n",
    "pyplot.legend(loc='upper right')\n",
    "pyplot.show()"
   ]
  },
  {
   "cell_type": "markdown",
   "metadata": {},
   "source": [
    "18-21, basically overlapping medians"
   ]
  },
  {
   "cell_type": "code",
   "execution_count": 60,
   "metadata": {},
   "outputs": [
    {
     "data": {
      "image/png": "[encoded data removed]",
      "text/plain": [
       "<Figure size 432x288 with 1 Axes>"
      ]
     },
     "metadata": {
      "needs_background": "light"
     },
     "output_type": "display_data"
    }
   ],
   "source": [
    "pyplot.hist(df[(df['Ethnicity']=='White not Hispanic')&(df['Age_Cohort']=='18-21')].Expenditures,alpha=0.5, label='White not Hispanic 18-21')\n",
    "pyplot.axvline(df[(df['Ethnicity']=='White not Hispanic')&(df['Age_Cohort']=='18-21')].Expenditures.mean(), color='blue', linestyle='dashed', linewidth=1)\n",
    "pyplot.axvline(df[(df['Ethnicity']=='White not Hispanic')&(df['Age_Cohort']=='18-21')].Expenditures.median(), color='blue', linestyle='dashed', linewidth=2)\n",
    "\n",
    "\n",
    "\n",
    "pyplot.hist(df[(df['Ethnicity']=='Hispanic')&(df['Age_Cohort']=='18-21')].Expenditures,alpha=0.5, label='Hispanic 18-21')\n",
    "pyplot.axvline(df[(df['Ethnicity']=='Hispanic')&(df['Age_Cohort']=='18-21')].Expenditures.mean(), color='orange', linestyle='dashed', linewidth=1)\n",
    "pyplot.axvline(df[(df['Ethnicity']=='Hispanic')&(df['Age_Cohort']=='18-21')].Expenditures.median(), color='orange', linestyle='dashed', linewidth=2)\n",
    "\n",
    "\n",
    "\n",
    "pyplot.legend(loc='upper right')\n",
    "pyplot.show()"
   ]
  },
  {
   "cell_type": "markdown",
   "metadata": {},
   "source": [
    "6-12, Hispanics with the lead"
   ]
  },
  {
   "cell_type": "code",
   "execution_count": 92,
   "metadata": {},
   "outputs": [
    {
     "data": {
      "image/png": "[encoded data removed]",
      "text/plain": [
       "<Figure size 432x288 with 1 Axes>"
      ]
     },
     "metadata": {
      "needs_background": "light"
     },
     "output_type": "display_data"
    }
   ],
   "source": [
    "pyplot.hist(df[(df['Ethnicity']=='White not Hispanic')&(df['Age_Cohort']=='6-12')].Expenditures,alpha=0.5, label='White not Hispanic 6-12')\n",
    "pyplot.axvline(df[(df['Ethnicity']=='White not Hispanic')&(df['Age_Cohort']=='6-12')].Expenditures.mean(), color='blue', linestyle='dashed', linewidth=1)\n",
    "pyplot.axvline(df[(df['Ethnicity']=='White not Hispanic')&(df['Age_Cohort']=='6-12')].Expenditures.median(), color='blue', linestyle='dashed', linewidth=2)\n",
    "\n",
    "\n",
    "\n",
    "pyplot.hist(df[(df['Ethnicity']=='Hispanic')&(df['Age_Cohort']=='6-12')].Expenditures,alpha=0.5, label='Hispanic 6-12')\n",
    "pyplot.axvline(df[(df['Ethnicity']=='Hispanic')&(df['Age_Cohort']=='6-12')].Expenditures.mean(), color='orange', linestyle='dashed', linewidth=1)\n",
    "pyplot.axvline(df[(df['Ethnicity']=='Hispanic')&(df['Age_Cohort']=='6-12')].Expenditures.median(), color='orange', linestyle='dashed', linewidth=2)\n",
    "\n",
    "\n",
    "\n",
    "pyplot.legend(loc='upper right')\n",
    "pyplot.show()"
   ]
  },
  {
   "cell_type": "markdown",
   "metadata": {},
   "source": [
    "22-50, basically overlapping"
   ]
  },
  {
   "cell_type": "code",
   "execution_count": 63,
   "metadata": {},
   "outputs": [
    {
     "data": {
      "image/png": "[encoded data removed]",
      "text/plain": [
       "<Figure size 432x288 with 1 Axes>"
      ]
     },
     "metadata": {
      "needs_background": "light"
     },
     "output_type": "display_data"
    }
   ],
   "source": [
    "pyplot.hist(df[(df['Ethnicity']=='White not Hispanic')&(df['Age_Cohort']=='22-50')].Expenditures,alpha=0.5, label='White not Hispanic 22-50')\n",
    "pyplot.axvline(df[(df['Ethnicity']=='White not Hispanic')&(df['Age_Cohort']=='22-50')].Expenditures.mean(), color='blue', linestyle='dashed', linewidth=1)\n",
    "pyplot.axvline(df[(df['Ethnicity']=='White not Hispanic')&(df['Age_Cohort']=='22-50')].Expenditures.median(), color='blue', linestyle='dashed', linewidth=2)\n",
    "\n",
    "\n",
    "\n",
    "pyplot.hist(df[(df['Ethnicity']=='Hispanic')&(df['Age_Cohort']=='22-50')].Expenditures,alpha=0.5, label='Hispanic 22-50')\n",
    "pyplot.axvline(df[(df['Ethnicity']=='Hispanic')&(df['Age_Cohort']=='22-50')].Expenditures.mean(), color='orange', linestyle='dashed', linewidth=1)\n",
    "pyplot.axvline(df[(df['Ethnicity']=='Hispanic')&(df['Age_Cohort']=='22-50')].Expenditures.median(), color='orange', linestyle='dashed', linewidth=2)\n",
    "\n",
    "\n",
    "\n",
    "pyplot.legend(loc='upper right')\n",
    "pyplot.show()"
   ]
  },
  {
   "cell_type": "markdown",
   "metadata": {},
   "source": [
    "51+, Hispanic median leads"
   ]
  },
  {
   "cell_type": "code",
   "execution_count": 68,
   "metadata": {},
   "outputs": [
    {
     "data": {
      "image/png": "[encoded data removed]",
      "text/plain": [
       "<Figure size 432x288 with 1 Axes>"
      ]
     },
     "metadata": {
      "needs_background": "light"
     },
     "output_type": "display_data"
    }
   ],
   "source": [
    "pyplot.hist(df[(df['Ethnicity']=='White not Hispanic')&(df['Age_Cohort']==' 51 +')].Expenditures,alpha=0.5, label='White not Hispanic 51+')\n",
    "pyplot.axvline(df[(df['Ethnicity']=='White not Hispanic')&(df['Age_Cohort']==' 51 +')].Expenditures.mean(), color='blue', linestyle='dashed', linewidth=1)\n",
    "pyplot.axvline(df[(df['Ethnicity']=='White not Hispanic')&(df['Age_Cohort']==' 51 +')].Expenditures.median(), color='blue', linestyle='dashed', linewidth=2)\n",
    "\n",
    "\n",
    "\n",
    "pyplot.hist(df[(df['Ethnicity']=='Hispanic')&(df['Age_Cohort']==' 51 +')].Expenditures,alpha=0.5, label='Hispanic 51+')\n",
    "pyplot.axvline(df[(df['Ethnicity']=='Hispanic')&(df['Age_Cohort']==' 51 +')].Expenditures.mean(), color='orange', linestyle='dashed', linewidth=1)\n",
    "pyplot.axvline(df[(df['Ethnicity']=='Hispanic')&(df['Age_Cohort']==' 51 +')].Expenditures.median(), color='orange', linestyle='dashed', linewidth=2)\n",
    "\n",
    "\n",
    "\n",
    "pyplot.legend(loc='upper right')\n",
    "pyplot.show()"
   ]
  },
  {
   "cell_type": "code",
   "execution_count": 145,
   "metadata": {},
   "outputs": [],
   "source": [
    "#Simpson's paradox! "
   ]
  },
  {
   "cell_type": "code",
   "execution_count": null,
   "metadata": {},
   "outputs": [],
   "source": []
  }
 ],
 "metadata": {
  "kernelspec": {
   "display_name": "Python 3",
   "language": "python",
   "name": "python3"
  },
  "language_info": {
   "codemirror_mode": {
    "name": "ipython",
    "version": 3
   },
   "file_extension": ".py",
   "mimetype": "text/x-python",
   "name": "python",
   "nbconvert_exporter": "python",
   "pygments_lexer": "ipython3",
   "version": "3.7.5"
  }
 },
 "nbformat": 4,
 "nbformat_minor": 2
}
